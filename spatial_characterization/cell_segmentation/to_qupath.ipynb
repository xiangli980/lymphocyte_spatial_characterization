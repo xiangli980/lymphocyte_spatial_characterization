{
 "cells": [
  {
   "cell_type": "code",
   "execution_count": null,
   "metadata": {},
   "outputs": [],
   "source": [
    "import numpy as np \n",
    "import matplotlib.pyplot as plt\n",
    "import os\n",
    "import json"
   ]
  },
  {
   "cell_type": "code",
   "execution_count": 4,
   "metadata": {},
   "outputs": [],
   "source": [
    "anno_dir = '/DataMount/xl260/Casey_aapm2024/WSI_Output/json/700837.json'"
   ]
  },
  {
   "cell_type": "code",
   "execution_count": 7,
   "metadata": {},
   "outputs": [],
   "source": [
    "def load_json(name):\n",
    "    # load the json file (may take ~20 secs)\n",
    "    json_path_wsi = name\n",
    "\n",
    "    bbox_list_wsi = []\n",
    "    centroid_list_wsi = []\n",
    "    contour_list_wsi = [] \n",
    "    type_list_wsi = []\n",
    "\n",
    "    # add results to individual lists\n",
    "    with open(json_path_wsi) as json_file:\n",
    "        data = json.load(json_file)\n",
    "        mag_info = data['mag']\n",
    "        nuc_info = data['nuc']\n",
    "        for inst in nuc_info:\n",
    "            inst_info = nuc_info[inst]\n",
    "            inst_centroid = inst_info['centroid']\n",
    "            centroid_list_wsi.append(inst_centroid)\n",
    "            inst_contour = inst_info['contour']\n",
    "            contour_list_wsi.append(inst_contour)\n",
    "            inst_bbox = inst_info['bbox']\n",
    "            bbox_list_wsi.append(inst_bbox)\n",
    "            inst_type = inst_info['type']\n",
    "            type_list_wsi.append(inst_type)\n",
    "            \n",
    "    return centroid_list_wsi, contour_list_wsi, bbox_list_wsi, type_list_wsi"
   ]
  },
  {
   "cell_type": "code",
   "execution_count": null,
   "metadata": {},
   "outputs": [],
   "source": [
    "# load the json file\n",
    "centroid_list_wsi, contour_list_wsi, bbox_list_wsi, type_list_wsi = load_json(anno_dir)\n",
    "# convert json file to Qupath format\n",
    "centroid_list_qupath = []\n",
    "contour_list_qupath = []\n",
    "bbox_list_qupath = []\n",
    "type_list_qupath = []\n",
    "for i in range(len(centroid_list_wsi)):\n",
    "    inst_centroid = centroid_list_wsi[i]\n",
    "    inst_contour = contour_list_wsi[i]\n",
    "    inst_bbox = bbox_list_wsi[i]\n",
    "    inst_type = type_list_wsi[i]\n",
    "    inst_qupath = {'X': inst_centroid[0], 'Y': inst_centroid[1], 'class': inst_type}\n",
    "    centroid_list_qupath.append(inst_qupath)\n",
    "    inst_qupath = []\n",
    "    for point in inst_contour:\n",
    "        inst_qupath.append({'X': point[0], 'Y': point[1]})\n",
    "    contour_list_qupath.append(inst_qupath)\n",
    "    inst_qupath = {'X': inst_bbox[0], 'Y': inst_bbox[1], 'width': inst_bbox[2], 'height': inst_bbox[3]}\n",
    "    bbox_list_qupath.append(inst_qupath)\n",
    "    type_list_qupath.append(inst_type)\n",
    "\n",
    "# save the json file\n",
    "qupath_json = {'annotations': []}\n",
    "for i in range(len(centroid_list_qupath)):\n",
    "    inst_annotation = {'centroid': centroid_list_qupath[i], 'contour': contour_list_qupath[i], 'bbox': bbox_list_qupath[i], 'type': type_list_qupath[i]}\n",
    "    qupath_json['annotations'].append(inst_annotation)\n",
    "qupath_json_str = json.dumps(qupath_json, indent=4)\n",
    "qupath_json_path = anno_dir.replace('.json', '_qupath.json')\n",
    "with open(qupath_json_path, 'w') as json_file:\n",
    "    json_file.write(qupath_json_str)\n",
    "print('Qupath json file saved to:', qupath_json_path)\n",
    "\n"
   ]
  },
  {
   "cell_type": "code",
   "execution_count": null,
   "metadata": {},
   "outputs": [],
   "source": []
  }
 ],
 "metadata": {
  "kernelspec": {
   "display_name": "env_hover",
   "language": "python",
   "name": "python3"
  },
  "language_info": {
   "codemirror_mode": {
    "name": "ipython",
    "version": 3
   },
   "file_extension": ".py",
   "mimetype": "text/x-python",
   "name": "python",
   "nbconvert_exporter": "python",
   "pygments_lexer": "ipython3",
   "version": "3.8.18"
  }
 },
 "nbformat": 4,
 "nbformat_minor": 2
}
